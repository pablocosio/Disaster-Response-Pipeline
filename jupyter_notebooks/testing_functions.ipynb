{
 "cells": [
  {
   "cell_type": "code",
   "execution_count": 3,
   "metadata": {},
   "outputs": [],
   "source": [
    "# import libraries\n",
    "import pandas as pd\n",
    "import numpy as np\n",
    "import pickle\n",
    "import joblib\n",
    "\n",
    "from sqlalchemy import create_engine\n",
    "# load data from database\n",
    " \n",
    "engine = create_engine('sqlite:///../data/DisasterResponse.db')\n",
    "df = pd.read_sql_table('messages_categories', con = engine)\n",
    "\n",
    "engine = create_engine('sqlite:///'+'../data/DisasterResponse.db')\n",
    "df = pd.read_sql_table('messages_categories', engine)"
   ]
  },
  {
   "cell_type": "code",
   "execution_count": 9,
   "metadata": {},
   "outputs": [
    {
     "data": {
      "text/plain": [
       "Int64Index([1, 0], dtype='int64')"
      ]
     },
     "execution_count": 9,
     "metadata": {},
     "output_type": "execute_result"
    }
   ],
   "source": [
    "# Define counts\n",
    "categories = df.drop(['id', 'message', 'original', 'genre'], axis = 1).sum().sort_values(ascending=False)\n",
    "\n",
    "# Get top 10\n",
    "categories = categories[0:10]\n",
    "\n",
    "df.related.value_counts().index\n",
    "#for category in categories:\n",
    " #print(df[category].value_counts())"
   ]
  },
  {
   "cell_type": "code",
   "execution_count": 5,
   "metadata": {},
   "outputs": [
    {
     "data": {
      "text/plain": [
       "related            20093\n",
       "aid_related        10860\n",
       "weather_related     7297\n",
       "direct_report       5075\n",
       "request             4474\n",
       "other_aid           3446\n",
       "food                2923\n",
       "earthquake          2455\n",
       "storm               2443\n",
       "shelter             2314\n",
       "dtype: int64"
      ]
     },
     "execution_count": 5,
     "metadata": {},
     "output_type": "execute_result"
    }
   ],
   "source": [
    "categories"
   ]
  },
  {
   "cell_type": "code",
   "execution_count": 7,
   "metadata": {},
   "outputs": [
    {
     "data": {
      "text/plain": [
       "genre\n",
       "direct    10766\n",
       "news      13054\n",
       "social     2396\n",
       "Name: message, dtype: int64"
      ]
     },
     "execution_count": 7,
     "metadata": {},
     "output_type": "execute_result"
    }
   ],
   "source": [
    "genre_counts = df.groupby('genre').count()['message']\n",
    "genre_counts"
   ]
  },
  {
   "cell_type": "code",
   "execution_count": 9,
   "metadata": {},
   "outputs": [
    {
     "data": {
      "text/plain": [
       "['direct', 'news', 'social']"
      ]
     },
     "execution_count": 9,
     "metadata": {},
     "output_type": "execute_result"
    }
   ],
   "source": [
    "list(genre_counts.index)"
   ]
  },
  {
   "cell_type": "code",
   "execution_count": 19,
   "metadata": {},
   "outputs": [
    {
     "data": {
      "text/plain": [
       "array([20282, 10860,  7297,  5075,  4474,  3446,  2923,  2455,  2443,\n",
       "        2314], dtype=int64)"
      ]
     },
     "execution_count": 19,
     "metadata": {},
     "output_type": "execute_result"
    }
   ],
   "source": [
    "# Define counts\n",
    "categories_values = df.drop(['id', 'message', 'original', 'genre'], axis = 1).sum().sort_values(ascending=False)\n",
    "\n",
    "# Get top 10\n",
    "categories_values[0:10]"
   ]
  },
  {
   "cell_type": "code",
   "execution_count": 14,
   "metadata": {},
   "outputs": [],
   "source": [
    "from plotly.graph_objs import Bar\n",
    "# Define top-10 categories by amount of messages\n",
    "categories = df.drop(['id', 'message', 'original', 'genre'], axis = 1).sum().sort_values(ascending=False)\n",
    "categories = list(categories[0:10].index)\n",
    "    \n",
    "# Define loop\n",
    "graphs = []\n",
    "for cat in categories:\n",
    "        counts = df[cat].value_counts()\n",
    "        # Json for plotting\n",
    "        data = [Bar(\n",
    "            x = counts.index,\n",
    "            y = counts.values,\n",
    "        )]\n",
    "    \n",
    "        layout = {\n",
    "            \"title\": \"No. of messages classified into category {}\".format(cat),\n",
    "            \"xaxis\": {\n",
    "                   \"title\": 'Genres'\n",
    "            },\n",
    "            \"yaxis\": {\n",
    "                   \"title\": 'No. of messages'\n",
    "            }\n",
    "        }\n",
    "        \n",
    "        graphs.append({\"data\": data, \"layout\": layout})"
   ]
  },
  {
   "cell_type": "code",
   "execution_count": 16,
   "metadata": {},
   "outputs": [
    {
     "data": {
      "text/plain": [
       "['c', 'y', 'b', 'a']"
      ]
     },
     "execution_count": 16,
     "metadata": {},
     "output_type": "execute_result"
    }
   ],
   "source": [
    "['c', 'y', 'b'] +['a']"
   ]
  },
  {
   "cell_type": "code",
   "execution_count": 17,
   "metadata": {},
   "outputs": [
    {
     "ename": "NameError",
     "evalue": "name 'fig' is not defined",
     "output_type": "error",
     "traceback": [
      "\u001b[1;31m---------------------------------------------------------------------------\u001b[0m",
      "\u001b[1;31mNameError\u001b[0m                                 Traceback (most recent call last)",
      "\u001b[1;32m<ipython-input-17-dbc668448cff>\u001b[0m in \u001b[0;36m<module>\u001b[1;34m\u001b[0m\n\u001b[0;32m      6\u001b[0m ))\n\u001b[0;32m      7\u001b[0m \u001b[1;33m\u001b[0m\u001b[0m\n\u001b[1;32m----> 8\u001b[1;33m fig.update_layout(\n\u001b[0m\u001b[0;32m      9\u001b[0m     xaxis = dict(\n\u001b[0;32m     10\u001b[0m         \u001b[0mtickmode\u001b[0m \u001b[1;33m=\u001b[0m \u001b[1;34m'array'\u001b[0m\u001b[1;33m,\u001b[0m\u001b[1;33m\u001b[0m\u001b[1;33m\u001b[0m\u001b[0m\n",
      "\u001b[1;31mNameError\u001b[0m: name 'fig' is not defined"
     ]
    }
   ],
   "source": [
    "import plotly.graph_objects as go\n",
    "\n",
    "go.Figure(go.Scatter(\n",
    "    x = [1, 2, 3, 4, 5, 6, 7, 8, 9, 10, 11, 12],\n",
    "    y = [28.8, 28.5, 37, 56.8, 69.7, 79.7, 78.5, 77.8, 74.1, 62.6, 45.3, 39.9]\n",
    "))\n",
    "\n",
    "fig.update_layout(\n",
    "    xaxis = dict(\n",
    "        tickmode = 'array',\n",
    "        tickvals = [1, 3, 5, 7, 9, 11],\n",
    "        ticktext = ['One', 'Three', 'Five', 'Seven', 'Nine', 'Eleven']\n",
    "    )\n",
    ")\n",
    "\n",
    "fig.show()"
   ]
  },
  {
   "cell_type": "code",
   "execution_count": null,
   "metadata": {},
   "outputs": [],
   "source": []
  }
 ],
 "metadata": {
  "kernelspec": {
   "display_name": "Python 3",
   "language": "python",
   "name": "python3"
  },
  "language_info": {
   "codemirror_mode": {
    "name": "ipython",
    "version": 3
   },
   "file_extension": ".py",
   "mimetype": "text/x-python",
   "name": "python",
   "nbconvert_exporter": "python",
   "pygments_lexer": "ipython3",
   "version": "3.7.7"
  }
 },
 "nbformat": 4,
 "nbformat_minor": 4
}
